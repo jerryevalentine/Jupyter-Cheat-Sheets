#read_sql_query - Read SQL query into a DataFrame.
#read_sql_table - Read SQL query or database table into a DataFrame.

pd.read_sql_table('table_name', 'postgres:///db_name') 
pd.read_sql_query('table_name', 'postgres:///db_name') 
