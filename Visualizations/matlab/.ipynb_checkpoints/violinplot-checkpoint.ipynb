{
 "cells": [
  {
   "cell_type": "code",
   "execution_count": null,
   "id": "890b7c84-3bbd-49d7-9fb2-3b70434e26c7",
   "metadata": {},
   "outputs": [],
   "source": [
    "import matplotlib.pyplot as plt\n",
    "import numpy as np\n",
    "\n",
    "plt.style.use('_mpl-gallery')\n",
    "\n",
    "# make data:\n",
    "np.random.seed(10)\n",
    "D = np.random.normal((3, 5, 4), (0.75, 1.00, 0.75), (200, 3))\n",
    "\n",
    "# plot:\n",
    "fig, ax = plt.subplots()\n",
    "\n",
    "vp = ax.violinplot(D, [2, 4, 6], widths=2,\n",
    "                   showmeans=False, showmedians=False, showextrema=False)\n",
    "# styling:\n",
    "for body in vp['bodies']:\n",
    "    body.set_alpha(0.9)\n",
    "ax.set(xlim=(0, 8), xticks=np.arange(1, 8),\n",
    "       ylim=(0, 8), yticks=np.arange(1, 8))\n",
    "\n",
    "plt.show()"
   ]
  },
  {
   "cell_type": "code",
   "execution_count": null,
   "id": "c14886bd-b08a-4489-9d2d-882bb5241c1a",
   "metadata": {},
   "outputs": [],
   "source": []
  }
 ],
 "metadata": {
  "kernelspec": {
   "display_name": "Python 3 (ipykernel)",
   "language": "python",
   "name": "python3"
  },
  "language_info": {
   "codemirror_mode": {
    "name": "ipython",
    "version": 3
   },
   "file_extension": ".py",
   "mimetype": "text/x-python",
   "name": "python",
   "nbconvert_exporter": "python",
   "pygments_lexer": "ipython3",
   "version": "3.9.13"
  }
 },
 "nbformat": 4,
 "nbformat_minor": 5
}
