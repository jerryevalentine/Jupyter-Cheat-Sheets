{
 "cells": [
  {
   "cell_type": "code",
   "execution_count": null,
   "id": "1ab53cb1-55a1-4189-b5d1-b56b0baa504e",
   "metadata": {},
   "outputs": [],
   "source": [
    "#To remove special characters from a DataFrame, \n",
    "#you can use the replace method along with a regular expression \n",
    "#to match and replace the unwanted characters. Here's an example:\n",
    "\n",
    "import pandas as pd\n",
    "\n",
    "# Create a sample DataFrame with special characters\n",
    "data = {'Column1': ['A$%123', 'B#**456', '$$C#789', 'D456&*']}\n",
    "df = pd.DataFrame(data)\n",
    "\n",
    "# Display the original DataFrame\n",
    "print(\"Original DataFrame:\")\n",
    "print(df)\n",
    "\n",
    "# Remove special characters from all columns in the DataFrame\n",
    "df.replace(to_replace=r'[^A-Za-z0-9]', value='', regex=True, inplace=True)\n",
    "\n",
    "# Display the DataFrame after removing special characters\n",
    "print(\"\\nDataFrame after removing special characters:\")\n",
    "print(df)\n",
    "\n",
    "#Specific Column\n",
    "# Remove special characters from a specific column ('Column1')\n",
    "df['Column1'].replace(to_replace=r'[^A-Za-z0-9]', value='', regex=True, inplace=True)\n"
   ]
  }
 ],
 "metadata": {
  "kernelspec": {
   "display_name": "Python 3 (ipykernel)",
   "language": "python",
   "name": "python3"
  },
  "language_info": {
   "codemirror_mode": {
    "name": "ipython",
    "version": 3
   },
   "file_extension": ".py",
   "mimetype": "text/x-python",
   "name": "python",
   "nbconvert_exporter": "python",
   "pygments_lexer": "ipython3",
   "version": "3.9.13"
  }
 },
 "nbformat": 4,
 "nbformat_minor": 5
}
