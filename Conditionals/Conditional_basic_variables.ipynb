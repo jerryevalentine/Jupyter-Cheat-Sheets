{
 "cells": [
  {
   "cell_type": "code",
   "execution_count": 22,
   "id": "032ae70c-6311-4860-bfca-d93fa84cfe27",
   "metadata": {},
   "outputs": [
    {
     "name": "stdout",
     "output_type": "stream",
     "text": [
      "c is equal to d\n",
      "A\n"
     ]
    }
   ],
   "source": []
  },
  {
   "cell_type": "code",
   "execution_count": 1,
   "id": "e03b2d08-bb9f-4784-abc8-5f7b77170b26",
   "metadata": {},
   "outputs": [
    {
     "name": "stdout",
     "output_type": "stream",
     "text": [
      "x is equal to 1\n",
      "y is not equal to 1\n",
      "x is less than y\n",
      "y is greater than x\n",
      "x is greater than or equal to 1\n",
      "Both values returned true\n",
      "One or more of the statements were true\n",
      "x is less than 10 and y is greater than 5\n"
     ]
    }
   ],
   "source": [
    "x = 1\n",
    "y = 10\n",
    "\n",
    "# Checks if one value is equal to another\n",
    "if x == 1:\n",
    "    print(\"x is equal to 1\")\n",
    "\n",
    "# Checks if one value is NOT equal to another\n",
    "if y != 1:\n",
    "    print(\"y is not equal to 1\")\n",
    "\n",
    "# Checks if one value is less than another\n",
    "if x < y:\n",
    "    print(\"x is less than y\")\n",
    "\n",
    "# Checks if one value is greater than another\n",
    "if y > x:\n",
    "    print(\"y is greater than x\")\n",
    "\n",
    "# Checks if a value is greater than or equal to another\n",
    "if x >= 1:\n",
    "    print(\"x is greater than or equal to 1\")\n",
    "\n",
    "# Checks for two conditions to be met using \"and\"\n",
    "if x == 1 and y == 10:\n",
    "    print(\"Both values returned true\")\n",
    "\n",
    "# Checks if either of two conditions is met\n",
    "if x < 45 or y < 5:\n",
    "    print(\"One or more of the statements were true\")\n",
    "\n",
    "# Nested if statements\n",
    "if x < 10:\n",
    "    if y < 5:\n",
    "        print(\"x is less than 10 and y is less than 5\")\n",
    "    elif y == 5:\n",
    "        print(\"x is less than 10 and y is equal to 5\")\n",
    "    else:\n",
    "        print(\"x is less than 10 and y is greater than 5\")\n"
   ]
  },
  {
   "cell_type": "code",
   "execution_count": null,
   "id": "950bef2c-022d-474c-90e8-b2d086b3270d",
   "metadata": {},
   "outputs": [],
   "source": []
  }
 ],
 "metadata": {
  "kernelspec": {
   "display_name": "Python 3 (ipykernel)",
   "language": "python",
   "name": "python3"
  },
  "language_info": {
   "codemirror_mode": {
    "name": "ipython",
    "version": 3
   },
   "file_extension": ".py",
   "mimetype": "text/x-python",
   "name": "python",
   "nbconvert_exporter": "python",
   "pygments_lexer": "ipython3",
   "version": "3.9.13"
  }
 },
 "nbformat": 4,
 "nbformat_minor": 5
}
