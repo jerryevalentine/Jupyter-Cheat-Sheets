{
 "cells": [
  {
   "cell_type": "markdown",
   "id": "33d9014c-8ee7-486e-b32c-49d233cbbe5a",
   "metadata": {},
   "source": [
    "## Conditional elif comparison ##"
   ]
  },
  {
   "cell_type": "code",
   "execution_count": null,
   "id": "9231f96c-8d5d-4ce3-88ea-ed36ef9843c3",
   "metadata": {},
   "outputs": [],
   "source": [
    "# Incorporate the random library\n",
    "import random\n",
    "\n",
    "# Print Title\n",
    "print(\"Let's Play Rock Paper Scissors!\")\n",
    "\n",
    "# Specify the three options\n",
    "options = [\"r\", \"p\", \"s\"]\n",
    "\n",
    "# Computer Selection\n",
    "computer_choice = random.choice(options)\n",
    "\n",
    "# User Selection\n",
    "user_choice = input(\"Make your Choice: (r)ock, (p)aper, (s)cissors? \")\n",
    "\n",
    "# Run Conditionals\n",
    "if (user_choice == \"r\" and computer_choice == \"p\"):\n",
    "    print(\"You chose rock. The computer chose paper.\")\n",
    "    print(\"Sorry. You lose.\")\n",
    "\n",
    "elif (user_choice == \"r\" and computer_choice == \"s\"):\n",
    "    print(\"You chose rock. The computer chose scissors.\")\n",
    "    print(\"Yay! You won.\")\n",
    "\n",
    "elif (user_choice == \"r\" and computer_choice == \"r\"):\n",
    "    print(\"You chose rock. The computer chose rock.\")\n",
    "    print(\"A smashing tie!\")\n",
    "\n",
    "elif (user_choice == \"p\" and computer_choice == \"p\"):\n",
    "    print(\"You chose paper. The computer chose paper.\")\n",
    "    print(\"A smashing tie!\")\n",
    "\n",
    "elif (user_choice == \"p\" and computer_choice == \"s\"):\n",
    "    print(\"You chose paper. The computer chose scissors.\")\n",
    "    print(\"Sorry. You lose.\")\n",
    "\n",
    "elif (user_choice == \"p\" and computer_choice == \"r\"):\n",
    "    print(\"You chose paper. The computer chose rock.\")\n",
    "    print(\"Yay! You won.\")\n",
    "\n",
    "elif (user_choice == \"s\" and computer_choice == \"p\"):\n",
    "    print(\"You chose scissors. The computer chose paper.\")\n",
    "    print(\"Yay! You won.\")\n",
    "\n",
    "elif (user_choice == \"s\" and computer_choice == \"s\"):\n",
    "    print(\"You chose scissors. The computer chose scissors.\")\n",
    "    print(\"A smashing tie!\")\n",
    "\n",
    "elif (user_choice == \"s\" and computer_choice == \"r\"):\n",
    "    print(\"You chose scissors. The computer chose rock.\")\n",
    "    print(\"Sorry. You lose.\")\n",
    "\n",
    "else:\n",
    "    print(\"I don't understand that!\")\n",
    "    print(\"Next time, choose from 'r', 'p', or 's'.\")\n"
   ]
  }
 ],
 "metadata": {
  "kernelspec": {
   "display_name": "Python 3 (ipykernel)",
   "language": "python",
   "name": "python3"
  },
  "language_info": {
   "codemirror_mode": {
    "name": "ipython",
    "version": 3
   },
   "file_extension": ".py",
   "mimetype": "text/x-python",
   "name": "python",
   "nbconvert_exporter": "python",
   "pygments_lexer": "ipython3",
   "version": "3.9.13"
  }
 },
 "nbformat": 4,
 "nbformat_minor": 5
}
