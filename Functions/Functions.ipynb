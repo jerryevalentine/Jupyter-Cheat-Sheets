{
 "cells": [
  {
   "cell_type": "code",
   "execution_count": 3,
   "id": "b45aa240-afe8-4e99-8451-d2aa594e7c58",
   "metadata": {},
   "outputs": [
    {
     "name": "stdout",
     "output_type": "stream",
     "text": [
      "The values within the list are...\n",
      "1\n",
      "2\n",
      "3\n",
      "4\n",
      "5\n",
      "6\n",
      "7\n",
      "8\n",
      "9\n",
      "10\n",
      "The length of this list is... 10\n",
      "The values within the list are...\n",
      "11\n",
      "12\n",
      "13\n",
      "14\n",
      "15\n",
      "The length of this list is... 5\n"
     ]
    }
   ],
   "source": []
  },
  {
   "cell_type": "code",
   "execution_count": null,
   "id": "9cf523dd-d031-4166-ad54-9c560051d6bc",
   "metadata": {},
   "outputs": [],
   "source": [
    "# Define the function and tell it to print \"Hello!\" when called\n",
    "def print_hello():\n",
    "    print(f\"Hello!\")\n",
    "\n",
    "\n",
    "# Call the function within the application to ensure the code is run\n",
    "print_hello()\n",
    "# -------------#\n",
    "\n",
    "\n",
    "# Functions that take in and use parameters can also be defined\n",
    "def print_name(name):\n",
    "    print(\"Hello \" + name + \"!\")\n",
    "\n",
    "\n",
    "# When calling a function with a parameter, a parameter must be passed into the function\n",
    "print_name(\"Bob Smith\")\n",
    "# -------------#\n",
    "\n",
    "# The prime use case for functions is in being able to run the same code for different values\n",
    "list_one = [1, 2, 3, 4, 5, 6, 7, 8, 9, 10]\n",
    "list_two = [11, 12, 13, 14, 15]\n",
    "\n",
    "\n",
    "def list_information(simple_list):\n",
    "    print(f\"The values within the list are...\")\n",
    "    for value in simple_list:\n",
    "        print(value)\n",
    "    print(\"The length of this list is... \" + str(len(simple_list)))\n",
    "\n",
    "\n",
    "list_information(list_one)\n",
    "list_information(list_two)\n"
   ]
  }
 ],
 "metadata": {
  "kernelspec": {
   "display_name": "Python 3 (ipykernel)",
   "language": "python",
   "name": "python3"
  },
  "language_info": {
   "codemirror_mode": {
    "name": "ipython",
    "version": 3
   },
   "file_extension": ".py",
   "mimetype": "text/x-python",
   "name": "python",
   "nbconvert_exporter": "python",
   "pygments_lexer": "ipython3",
   "version": "3.9.13"
  }
 },
 "nbformat": 4,
 "nbformat_minor": 5
}
