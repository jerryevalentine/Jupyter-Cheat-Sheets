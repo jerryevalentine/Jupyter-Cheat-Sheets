{
 "cells": [
  {
   "cell_type": "code",
   "execution_count": null,
   "id": "e28f70ff",
   "metadata": {},
   "outputs": [],
   "source": [
    "< Less than != Not equal to\n",
    "> Greater than df.column.isin(values) Group membership\n",
    "== Equals pd.isnull(obj) Is NaN\n",
    "<= Less than or equals pd.notnull(obj) Is not NaN\n",
    ">= Greater than or equals \n",
    "!=Not equal to\n",
    "df.column.isin(values) Group membership\n",
    "pd.isnull(obj) Is NaN\n",
    "pd.notnull(obj) Is not NaN\n",
    "&,|,~,^,df.any(),df.all() - Logical and, or, not, xor, any, all \n",
    "'\\.' Matches strings containing a period '.'\n",
    "'Length$' Matches strings ending with word 'Length'\n",
    "'^Sepal' Matches strings beginning with the word 'Sepal'\n",
    "'^x[1-5]$' Matches strings beginning with 'x' and ending with 1,2,3,4,5\n",
    "'^(?!Species$).*' Matches strings except the string 'Species'"
   ]
  }
 ],
 "metadata": {
  "kernelspec": {
   "display_name": "Python 3 (ipykernel)",
   "language": "python",
   "name": "python3"
  },
  "language_info": {
   "codemirror_mode": {
    "name": "ipython",
    "version": 3
   },
   "file_extension": ".py",
   "mimetype": "text/x-python",
   "name": "python",
   "nbconvert_exporter": "python",
   "pygments_lexer": "ipython3",
   "version": "3.9.13"
  }
 },
 "nbformat": 4,
 "nbformat_minor": 5
}
