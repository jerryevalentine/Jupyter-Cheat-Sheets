{
 "cells": [
  {
   "cell_type": "code",
   "execution_count": null,
   "id": "f23cb8a5-3f1a-4d45-ba17-221604c5bb64",
   "metadata": {},
   "outputs": [],
   "source": [
    "# Initial variable to track shopping status\n",
    "shopping = 'y'\n",
    "\n",
    "# List to track pie purchases\n",
    "pie_purchases = []\n",
    "\n",
    "# Pie List\n",
    "pie_list = [\"Pecan\", \"Apple Crisp\", \"Bean\", \"Banoffee\", \"Black Bun\",\n",
    "            \"Blueberry\", \"Buko\", \"Burek\", \"Tamale\", \"Steak\"]\n",
    "\n",
    "# Display initial message\n",
    "print(\"Welcome to the House of Pies! Here are our pies:\")\n",
    "\n",
    "# While we are still shopping...\n",
    "while shopping == \"y\":\n",
    "\n",
    "    # Show pie selection prompt\n",
    "    print(\"---------------------------------------------------------------------\")\n",
    "    print(\"(1) Pecan, (2) Apple Crisp, (3) Bean, (4) Banoffee, \" +\n",
    "          \" (5) Black Bun, (6) Blueberry, (7) Buko, (8) Burek, \" +\n",
    "          \" (9) Tamale, (10) Steak \")\n",
    "\n",
    "    pie_choice = input(\"Which would you like? \")\n",
    "\n",
    "    # Add pie to the pie list\n",
    "    pie_purchases.append(pie_choice)\n",
    "\n",
    "    print(\"------------------------------------------------------------------------\")\n",
    "\n",
    "    # Inform the customer of the pie purchase\n",
    "    print(\"Great! We'll have that \" + pie_list[int(pie_choice) - 1] + \" right out for you.\")\n",
    "\n",
    "    # Provide exit option\n",
    "    shopping = input(\"Would you like to make another purchase: (y)es or (n)o? \")\n",
    "\n",
    "# Once the pie list is complete\n",
    "print(\"------------------------------------------------------------------------\")\n",
    "print(\"You purchased a total of \" + str(len(pie_purchases)) + \".\")\n"
   ]
  }
 ],
 "metadata": {
  "kernelspec": {
   "display_name": "Python 3 (ipykernel)",
   "language": "python",
   "name": "python3"
  },
  "language_info": {
   "codemirror_mode": {
    "name": "ipython",
    "version": 3
   },
   "file_extension": ".py",
   "mimetype": "text/x-python",
   "name": "python",
   "nbconvert_exporter": "python",
   "pygments_lexer": "ipython3",
   "version": "3.9.13"
  }
 },
 "nbformat": 4,
 "nbformat_minor": 5
}
