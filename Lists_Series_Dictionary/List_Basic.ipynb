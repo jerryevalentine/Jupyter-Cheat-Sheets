{
 "cells": [
  {
   "cell_type": "code",
   "execution_count": 1,
   "id": "02c934ed-6368-4ca8-89d1-c6d47ca6440a",
   "metadata": {},
   "outputs": [
    {
     "name": "stdout",
     "output_type": "stream",
     "text": [
      "['Jacob', 'Ahmed', 80]\n"
     ]
    }
   ],
   "source": [
    "myList = [\"Jacob\", 25, \"Ahmed\", 80]\n",
    "myList.pop(1)\n",
    "print(myList)"
   ]
  },
  {
   "cell_type": "code",
   "execution_count": null,
   "id": "6a6a0c61-9995-4dc2-b0ab-d94d1aff5714",
   "metadata": {},
   "outputs": [],
   "source": [
    "# Create a variable and set it as an List\n",
    "#           0       1    2      3 \n",
    "myList = [\"Jacob\", 25, \"Ahmed\", 80]\n",
    "print(myList)\n",
    "\n",
    "# Adds an element onto the end of a List\n",
    "myList.append(\"Matt\")\n",
    "print(myList)\n",
    "# [\"Jacob\", 25, \"Ahmed\", 80, \"Matt\"]\n",
    "\n",
    "# Returns the index of the first object with a matching value\n",
    "print(myList.index(\"Matt\"))\n",
    "# print(4)\n",
    "\n",
    "# Changes a specified element within an List at the given index\n",
    "myList[3] = 85\n",
    "print(myList)\n",
    "# [\"Jacob\", 25, \"Ahmed\", 85, \"Matt\"]\n",
    "\n",
    "# Returns the length of the List\n",
    "print(len(myList)) # list.method_name()\n",
    "# print(5) # function()\n",
    "\n",
    "# Removes a specified object from an List\n",
    "myList.remove(\"Matt\")\n",
    "print(myList)\n",
    "\n",
    "# # Removes the object at the index specified\n",
    "myList.pop(0)\n",
    "# [25, \"Ahmed\", 85, \"Matt\"]\n",
    "myList.pop(0)\n",
    "# [\"Ahmed\", 85, \"Matt\"]\n",
    "print(myList)\n",
    "\n",
    "# # Creates a tuple, a sequence of immutable Python objects that cannot be changed\n",
    "# myTuple = ('Python', 100, 'VBA', False)\n",
    "# print(myTuple)\n"
   ]
  }
 ],
 "metadata": {
  "kernelspec": {
   "display_name": "Python 3 (ipykernel)",
   "language": "python",
   "name": "python3"
  },
  "language_info": {
   "codemirror_mode": {
    "name": "ipython",
    "version": 3
   },
   "file_extension": ".py",
   "mimetype": "text/x-python",
   "name": "python",
   "nbconvert_exporter": "python",
   "pygments_lexer": "ipython3",
   "version": "3.9.13"
  }
 },
 "nbformat": 4,
 "nbformat_minor": 5
}
