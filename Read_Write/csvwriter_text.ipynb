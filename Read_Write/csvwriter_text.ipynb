{
 "cells": [
  {
   "cell_type": "code",
   "execution_count": null,
   "id": "0798dcdc-67f9-463e-9450-b38258a66f6f",
   "metadata": {},
   "outputs": [],
   "source": [
    "\n",
    "# Dependencies\n",
    "import os\n",
    "import csv\n",
    "\n",
    "# Specify the file to write to an existing file, not create a new one.\n",
    "output_path = os.path.join(\"output\", \"new.txt\")\n",
    "\n",
    "# Open the file using \"write\" mode. Specify the variable to hold the contents.\n",
    "with open(output_path, 'w') as csvfile:\n",
    "\n",
    "    # Initialize csv.writer\n",
    "    csvwriter = csv.writer(csvfile, delimiter=',')\n",
    "\n",
    "    # Write the first row (column headers) to new.csv\n",
    "    csvwriter.writerow(['First Name', 'Last Name', 'SSN'])\n",
    "\n",
    "    # Write the second row to new.csv\n",
    "    csvwriter.writerow(['Caleb', 'Frost', '505-80-2901'])\n",
    "    \n",
    "    \n",
    "    # Write the second row to new.csv\n",
    "    name_list = ['John', 'Doe', '505-80-2901']\n",
    "    csvwriter.writerow(name_list)  \n",
    "    \n",
    "    a = 'Hello World!!!'\n",
    "    \n",
    "    csvwriter.writerow(a)  x1\n",
    "\n",
    "\n",
    "a = [\"a\", \"b\", \"c\"]\n",
    "\n",
    "csvpath = os.path.join(\"output\", \"exported1.csv\")\n",
    "\n",
    "with open(csvpath, encoding='UTF-8') as csvfile:\n",
    "    csvreader = csv.reader(csvfile, delimiter=\",\")\n",
    "    for element in a:\n",
    "        csvfile.write(element + '\\n')\n",
    "\n",
    "a = 'a'\n",
    "\n",
    "# Open a file in write mode ('w')\n",
    "with open('output2.txt', 'w') as file:\n",
    "    file.write(a)\n",
    "\n",
    "\n",
    "a = \"Hello\"\n",
    "b = \"Goodbye\"\n",
    "\n",
    "# Open a file in write mode ('w')\n",
    "with open('output3.txt', 'w') as file:\n",
    "    # Write each variable to the file\n",
    "    file.write(f\"a: {a}\\n\")\n",
    "    file.write(f\"b: {b}\\n\")\n"
   ]
  }
 ],
 "metadata": {
  "kernelspec": {
   "display_name": "Python 3 (ipykernel)",
   "language": "python",
   "name": "python3"
  },
  "language_info": {
   "codemirror_mode": {
    "name": "ipython",
    "version": 3
   },
   "file_extension": ".py",
   "mimetype": "text/x-python",
   "name": "python",
   "nbconvert_exporter": "python",
   "pygments_lexer": "ipython3",
   "version": "3.9.13"
  }
 },
 "nbformat": 4,
 "nbformat_minor": 5
}
