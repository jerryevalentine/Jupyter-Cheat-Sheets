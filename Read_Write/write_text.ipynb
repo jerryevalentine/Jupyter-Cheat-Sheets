{
 "cells": [
  {
   "cell_type": "code",
   "execution_count": 1,
   "id": "353a0660-792c-4796-a145-dfcb1785200a",
   "metadata": {},
   "outputs": [],
   "source": [
    "# Open a text file in write mode ('w')\n",
    "with open('Resources/write.txt', 'w') as file:\n",
    "    # Write content to the file\n",
    "    file.write('Hello, this is a sample text file!\\n')\n",
    "    file.write('You can write multiple lines like this.\\n')\n",
    "    file.write('This is the end of the file.')"
   ]
  },
  {
   "cell_type": "code",
   "execution_count": null,
   "id": "5e0e77e8-5035-4cac-9d5f-2313c12e7547",
   "metadata": {},
   "outputs": [],
   "source": []
  }
 ],
 "metadata": {
  "kernelspec": {
   "display_name": "Python 3 (ipykernel)",
   "language": "python",
   "name": "python3"
  },
  "language_info": {
   "codemirror_mode": {
    "name": "ipython",
    "version": 3
   },
   "file_extension": ".py",
   "mimetype": "text/x-python",
   "name": "python",
   "nbconvert_exporter": "python",
   "pygments_lexer": "ipython3",
   "version": "3.9.13"
  }
 },
 "nbformat": 4,
 "nbformat_minor": 5
}
