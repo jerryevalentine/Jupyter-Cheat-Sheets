{
 "cells": [
  {
   "cell_type": "code",
   "execution_count": null,
   "id": "e2d4c525-f7a1-4d5d-95cf-9564353facd9",
   "metadata": {},
   "outputs": [],
   "source": [
    "\n",
    "# # Store the file path associated with the file (note the backslash may be OS specific)\n",
    "# file = '../Resources/input.txt'\n",
    "\n",
    "# # Open the file in \"read\" mode ('r') and store the contents in the variable \"text\"\n",
    "# with open(file, 'r') as text:\n",
    "\n",
    "#     # This stores a reference to a file stream\n",
    "#     print(text)\n",
    "\n",
    "#     # Store all of the text inside a variable called \"lines\"\n",
    "#     lines = text.read()\n",
    "\n",
    "#     # Print the contents of the text file\n",
    "#     print(lines)\n",
    "\n",
    "with open('Output/new.txt') as f: \n",
    "    lines=f.read()\n",
    "    print(lines)\n",
    "\n",
    "# close the file (so that other programs can access it)\n",
    "# more memory efficient"
   ]
  }
 ],
 "metadata": {
  "kernelspec": {
   "display_name": "Python 3 (ipykernel)",
   "language": "python",
   "name": "python3"
  },
  "language_info": {
   "codemirror_mode": {
    "name": "ipython",
    "version": 3
   },
   "file_extension": ".py",
   "mimetype": "text/x-python",
   "name": "python",
   "nbconvert_exporter": "python",
   "pygments_lexer": "ipython3",
   "version": "3.9.13"
  }
 },
 "nbformat": 4,
 "nbformat_minor": 5
}
