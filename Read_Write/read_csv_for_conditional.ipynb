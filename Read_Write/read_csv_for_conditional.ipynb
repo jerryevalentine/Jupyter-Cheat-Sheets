{
 "cells": [
  {
   "cell_type": "code",
   "execution_count": null,
   "id": "e58c2589-4298-499e-a246-822b14b19741",
   "metadata": {},
   "outputs": [],
   "source": [
    "\n",
    "# Modules\n",
    "import os\n",
    "import csv\n",
    "\n",
    "# Prompt user for title lookup\n",
    "comic = input(\"What title are you looking for? \")\n",
    "\n",
    "# Set path for file\n",
    "csvpath = os.path.join(\"..\", \"Resources\", \"comic_books.csv\")\n",
    "\n",
    "# Set variable to check if we found the comic book\n",
    "found = False\n",
    "\n",
    "# Open the CSV using the UTF-8 encoding\n",
    "with open(csvpath, encoding='UTF-8') as csvfile:\n",
    "    csvreader = csv.reader(csvfile, delimiter=\",\")\n",
    "\n",
    "    # Loop through looking for the comic book\n",
    "    for row in csvreader:\n",
    "        if row[0] == comic:\n",
    "            print(row[0] + \" was published by \" + row[8] + \" in \" + row[9])\n",
    "\n",
    "            # Set variable to confirm we have found the comic book\n",
    "            found = True\n",
    "\n",
    "    # If the comic book is never found, alert the user\n",
    "    if found is False:\n",
    "        print(\"Sorry about this, we don't seem to have what you are looking for!\")\n"
   ]
  }
 ],
 "metadata": {
  "kernelspec": {
   "display_name": "Python 3 (ipykernel)",
   "language": "python",
   "name": "python3"
  },
  "language_info": {
   "codemirror_mode": {
    "name": "ipython",
    "version": 3
   },
   "file_extension": ".py",
   "mimetype": "text/x-python",
   "name": "python",
   "nbconvert_exporter": "python",
   "pygments_lexer": "ipython3",
   "version": "3.9.13"
  }
 },
 "nbformat": 4,
 "nbformat_minor": 5
}
