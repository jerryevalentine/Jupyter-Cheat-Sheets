import pandas as pd
pd.read_sql_table('table_name', 'postgres:///db_name') 
